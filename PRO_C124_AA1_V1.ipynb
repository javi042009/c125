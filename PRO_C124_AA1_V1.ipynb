{
  "cells": [
    {
      "cell_type": "markdown",
      "metadata": {
        "id": "7pi_JjSnXDm5"
      },
      "source": [
        "¿Qué es una **matriz**?\n",
        "\n",
        "Sabemos que es una disposición de número de forma tabular. En Python, usamos listas 2D o arreglos para representar una matriz. Una matriz siempre debe tener un valor numérico.\n",
        "\n",
        "Lista 1D: es una lista con una fila y muchas columnas, tal como se muestra a continuación.\n",
        "\n",
        "Lista 2D: es una lista de listas. Puede tener cualquier número de filas y columnas. \n"
      ]
    },
    {
      "cell_type": "code",
      "execution_count": 1,
      "metadata": {
        "colab": {
          "base_uri": "https://localhost:8080/"
        },
        "id": "EjzftTTIXC-r",
        "outputId": "ef82e1bf-bebc-4e41-aafa-24575bf22bc8"
      },
      "outputs": [
        {
          "name": "stdout",
          "output_type": "stream",
          "text": [
            "[3, 2, -1, 9, 5]\n",
            "[[1, -2, 3], [8, 4, 6], [-6, 5, 3]]\n"
          ]
        }
      ],
      "source": [
        "# Método 1 para crear listas 1D y 2D\n",
        "A = [3,2,-1,9,5]\n",
        "print(A)\n",
        "B =[[1,-2,3],[8,4,6],[-6,5,3]]\n",
        "print(B)"
      ]
    },
    {
      "cell_type": "markdown",
      "metadata": {
        "id": "gJAWuKhyfm9S"
      },
      "source": [
        "La biblioteca **NumPy** proporciona diferentes operaciones especializadas en matrices y proporciona operaciones más rápidas en ellas."
      ]
    },
    {
      "cell_type": "code",
      "execution_count": 2,
      "metadata": {
        "colab": {
          "base_uri": "https://localhost:8080/"
        },
        "id": "QTSOc5dveetF",
        "outputId": "0f338f47-2258-4dc9-95d6-2cbc796dd488"
      },
      "outputs": [
        {
          "name": "stdout",
          "output_type": "stream",
          "text": [
            "[1 2 3 4 5]\n",
            "<class 'numpy.ndarray'>\n"
          ]
        }
      ],
      "source": [
        "# Método para crear matrices 1D usando NumPy\n",
        "\n",
        "import numpy as np\n",
        "\n",
        "arr = np.array([1, 2, 3, 4, 5])\n",
        "print(arr)\n",
        "print(type(arr))"
      ]
    },
    {
      "cell_type": "code",
      "execution_count": 3,
      "metadata": {
        "colab": {
          "base_uri": "https://localhost:8080/"
        },
        "id": "mWdX3b9fkE5l",
        "outputId": "a4c1226d-765b-4297-d321-f438165e8822"
      },
      "outputs": [
        {
          "name": "stdout",
          "output_type": "stream",
          "text": [
            "[[1 2 3]\n",
            " [4 5 6]\n",
            " [7 8 9]]\n"
          ]
        },
        {
          "data": {
            "text/plain": [
              "numpy.ndarray"
            ]
          },
          "execution_count": 3,
          "metadata": {},
          "output_type": "execute_result"
        }
      ],
      "source": [
        "# Método 2 para crear matrices 2D usando NumPy\n",
        "\n",
        "arr_2d =np.array([[1,2,3],[4,5,6],[7,8,9]])\n",
        "print(arr_2d)\n",
        "type(arr_2d)"
      ]
    },
    {
      "cell_type": "code",
      "execution_count": 4,
      "metadata": {
        "colab": {
          "base_uri": "https://localhost:8080/"
        },
        "id": "_Qot-ThBlNXS",
        "outputId": "c7484274-3b20-4118-f83e-f57cd7f72a56"
      },
      "outputs": [
        {
          "name": "stdout",
          "output_type": "stream",
          "text": [
            "[['1' '2' '3']\n",
            " ['a' '5' 'True']\n",
            " ['7' '8' '9']]\n"
          ]
        },
        {
          "data": {
            "text/plain": [
              "numpy.ndarray"
            ]
          },
          "execution_count": 4,
          "metadata": {},
          "output_type": "execute_result"
        }
      ],
      "source": [
        "# Arreglo con elementos de diferentes tipos de datos\n",
        "\n",
        "arr_2d_1 =np.array([[1,2,3],['a',5,True],[7,8,9]])\n",
        "print(arr_2d_1)\n",
        "type(arr_2d_1)"
      ]
    },
    {
      "cell_type": "markdown",
      "metadata": {
        "id": "gTyC68aBmaV8"
      },
      "source": [
        "Accediendo a elementos de listas 2D y matrices"
      ]
    },
    {
      "cell_type": "code",
      "execution_count": 5,
      "metadata": {
        "colab": {
          "base_uri": "https://localhost:8080/"
        },
        "id": "zRJOKcYCrdL2",
        "outputId": "20595f9e-6762-440a-f9c5-4f1ba0cfe341"
      },
      "outputs": [
        {
          "name": "stdout",
          "output_type": "stream",
          "text": [
            "[3, 2, -1, 9, 5]\n",
            "2\n",
            "[1 2 3 4 5]\n",
            "3\n"
          ]
        }
      ],
      "source": [
        "# Accediendo a elementos de una lista 1D o matriz 1D\n",
        "print(A)\n",
        "print(A[1])      \n",
        "print(arr)   \n",
        "print(arr[2])"
      ]
    },
    {
      "cell_type": "code",
      "execution_count": 6,
      "metadata": {
        "colab": {
          "base_uri": "https://localhost:8080/"
        },
        "id": "9Z85uTpqmZSi",
        "outputId": "77994495-95d3-4c93-bd40-118a37fc746d"
      },
      "outputs": [
        {
          "name": "stdout",
          "output_type": "stream",
          "text": [
            "[[1 2 3]\n",
            " [4 5 6]\n",
            " [7 8 9]]\n",
            "6\n",
            "2\n"
          ]
        }
      ],
      "source": [
        "# Accediendo a elementos de una matriz 2D - Método 1\n",
        "print(arr_2d)\n",
        "print(arr_2d[1,2])\n",
        "# Accediendo a elementos de una matriz 2D - Método 2\n",
        "print(arr_2d[0][1])"
      ]
    },
    {
      "cell_type": "markdown",
      "metadata": {
        "id": "OtdsdRVYtA2S"
      },
      "source": [
        "Actualizando elementos de listas 2D"
      ]
    },
    {
      "cell_type": "code",
      "execution_count": 7,
      "metadata": {
        "colab": {
          "base_uri": "https://localhost:8080/"
        },
        "id": "vFQzX-33rV15",
        "outputId": "e6553b05-703f-42eb-9972-1dadfc702ec9"
      },
      "outputs": [
        {
          "name": "stdout",
          "output_type": "stream",
          "text": [
            "[[1 2 3]\n",
            " [4 5 6]\n",
            " [7 8 9]]\n",
            "----------------\n",
            "[[ 1  2  3]\n",
            " [ 4  5 -4]\n",
            " [ 7  8  9]]\n",
            "----------------\n",
            "[[1 2 3]\n",
            " [4 5 8]\n",
            " [7 8 9]]\n"
          ]
        }
      ],
      "source": [
        "# Para actualizar un elemento de una lista/matriz 2D\n",
        "print(arr_2d)\n",
        "print('----------------')\n",
        "# Método 1\n",
        "arr_2d[1,2]=-4\n",
        "print(arr_2d)\n",
        "print('----------------')\n",
        "# Método 2\n",
        "arr_2d[1,2]=8\n",
        "print(arr_2d)\n"
      ]
    },
    {
      "cell_type": "markdown",
      "metadata": {
        "id": "L8rcQluFvqmK"
      },
      "source": [
        "Sumar/restar elementos de listas 2D"
      ]
    },
    {
      "cell_type": "code",
      "execution_count": 8,
      "metadata": {
        "id": "QD8e4kzDiXVl"
      },
      "outputs": [
        {
          "name": "stdout",
          "output_type": "stream",
          "text": [
            "[[1 3]\n",
            " [5 4]] \n",
            "\n",
            "[[7 8]\n",
            " [6 9]] \n",
            "\n",
            "[[ 8 11]\n",
            " [11 13]]\n"
          ]
        }
      ],
      "source": [
        "# Sumar matrices\n",
        "a=np.array([[1,3],[5,4]])\n",
        "b=np.array([[7,8],[6,9]])\n",
        "rows=2\n",
        "cols=2\n",
        "c=np.array([[0,0],[0,0]])\n",
        "for i in range(rows):\n",
        "    for j in range(cols):\n",
        "        c[i][j]=a[i][j]+b[i][j]\n",
        "print(a,'\\n')\n",
        "print(b,'\\n')\n",
        "print(c)"
      ]
    },
    {
      "cell_type": "code",
      "execution_count": 9,
      "metadata": {
        "id": "f8U-ghvNiXKG"
      },
      "outputs": [
        {
          "name": "stdout",
          "output_type": "stream",
          "text": [
            "[[ 2 -2]\n",
            " [ 0  5]\n",
            " [ 4  7]] \n",
            "\n",
            "[ 10. -10.]\n",
            "[ 0. 25.]\n",
            "[20. 35.]\n"
          ]
        }
      ],
      "source": [
        "# Multiplicación escalar\n",
        "b=np.array([[2,-2],[0,5],[4,7]])\n",
        "print(b,'\\n')\n",
        "n=5\n",
        "mul=np.zeros([3,2])\n",
        "for i in range(3):\n",
        "    for j in range(2):\n",
        "        mul[i][j]=n*b[i][j]\n",
        "for rows in mul:\n",
        "    print(rows)"
      ]
    },
    {
      "cell_type": "code",
      "execution_count": 2,
      "metadata": {},
      "outputs": [
        {
          "name": "stdout",
          "output_type": "stream",
          "text": [
            "0.0 \n",
            "\n"
          ]
        },
        {
          "ename": "IndexError",
          "evalue": "too many indices for array: array is 0-dimensional, but 1 were indexed",
          "output_type": "error",
          "traceback": [
            "\u001b[1;31m---------------------------------------------------------------------------\u001b[0m",
            "\u001b[1;31mIndexError\u001b[0m                                Traceback (most recent call last)",
            "Cell \u001b[1;32mIn[2], line 13\u001b[0m\n\u001b[0;32m     11\u001b[0m     \u001b[38;5;28;01mfor\u001b[39;00m j \u001b[38;5;129;01min\u001b[39;00m \u001b[38;5;28mrange\u001b[39m(\u001b[38;5;241m2\u001b[39m):\n\u001b[0;32m     12\u001b[0m         \u001b[38;5;28;01mfor\u001b[39;00m k \u001b[38;5;129;01min\u001b[39;00m \u001b[38;5;28mrange\u001b[39m(\u001b[38;5;241m3\u001b[39m):\n\u001b[1;32m---> 13\u001b[0m             c[i][j]\u001b[38;5;241m=\u001b[39m\u001b[43mc\u001b[49m\u001b[43m[\u001b[49m\u001b[43mi\u001b[49m\u001b[43m]\u001b[49m[j]\u001b[38;5;241m+\u001b[39ma[i][k]\u001b[38;5;241m*\u001b[39mb[k][j]\n\u001b[0;32m     14\u001b[0m \u001b[38;5;28;01mfor\u001b[39;00m rows \u001b[38;5;129;01min\u001b[39;00m c : \n\u001b[0;32m     15\u001b[0m     \u001b[38;5;28mprint\u001b[39m(rows)            \n",
            "\u001b[1;31mIndexError\u001b[0m: too many indices for array: array is 0-dimensional, but 1 were indexed"
          ]
        }
      ],
      "source": [
        "#Multiplicar elementos de matrices 2d\n",
        "#matriz 3x3\n",
        "a=np.array([[2,3,-4],[6,1,0],[8,9,3]])\n",
        "b=np.array([[2,-2],[0,5],[4,7]])\n",
        "c=np.zeros([])\n",
        "print(c,'\\n')\n",
        "rows_a=3\n",
        "cols_a = rows_b=2\n",
        "cols_b = 3\n",
        "for i in range(3):\n",
        "    for j in range(2):\n",
        "        for k in range(3):\n",
        "            c[i][j]=c[i][j]+a[i][k]*b[k][j]\n",
        "for rows in c : \n",
        "    print(rows)            \n"
      ]
    },
    {
      "cell_type": "code",
      "execution_count": 1,
      "metadata": {},
      "outputs": [
        {
          "name": "stdout",
          "output_type": "stream",
          "text": [
            "[[0. 0. 0. 0. 0. 0.]\n",
            " [0. 0. 0. 0. 0. 0.]\n",
            " [0. 0. 0. 0. 0. 0.]\n",
            " [0. 0. 0. 0. 0. 0.]\n",
            " [0. 0. 0. 0. 0. 0.]\n",
            " [0. 0. 0. 0. 0. 0.]]\n"
          ]
        }
      ],
      "source": [
        "import numpy as np\n",
        "\n",
        "q_matrix=np.zeros([6,6])\n",
        "print(q_matrix)\n",
        "\n",
        "gama=0.8\n",
        "def take_action(current_state,reward_matrix,gama):\n",
        "    action = get_action(current_state,reward_matrix)\n",
        "    current_sa_reward=reward_matrix[current_state,action]\n",
        "    print(current_sa_reward)\n",
        "    q_sa_value=max(q_matrix[action,])\n",
        "    print(q_sa_value)\n",
        "    q_current_state=current_sa_reward+(gama*q_sa_value)\n",
        "    print(q_current_state)\n",
        "    q_matrix[current_state,action]=q_current_state\n",
        "    print(\"Matrix-q\",\"\\n\",q_matrix)"
      ]
    },
    {
      "cell_type": "code",
      "execution_count": 4,
      "metadata": {},
      "outputs": [],
      "source": [
        "def take_action(current_state,reward_matrix,gama):\n",
        "    action = get_action(current_state,reward_matrix)\n",
        "    current_sa_reward=reward_matrix[current_state,action]\n",
        "    print(current_sa_reward)\n",
        "    q_sa_value=max(q_matrix[action,])\n",
        "    print(q_sa_value)\n",
        "    q_current_state=current_sa_reward+(gama*q_sa_value)\n",
        "    print(q_current_state)\n",
        "    q_matrix[current_state,action]=q_current_state\n",
        "    print(\"Matrix-q\",\"\\n\",q_matrix)"
      ]
    }
  ],
  "metadata": {
    "colab": {
      "collapsed_sections": [],
      "name": "PRO_C124_AA1_V1",
      "provenance": []
    },
    "kernelspec": {
      "display_name": "Python 3",
      "name": "python3"
    },
    "language_info": {
      "codemirror_mode": {
        "name": "ipython",
        "version": 3
      },
      "file_extension": ".py",
      "mimetype": "text/x-python",
      "name": "python",
      "nbconvert_exporter": "python",
      "pygments_lexer": "ipython3",
      "version": "3.10.8"
    }
  },
  "nbformat": 4,
  "nbformat_minor": 0
}
